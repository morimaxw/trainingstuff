{
 "cells": [
  {
   "cell_type": "code",
   "execution_count": 1,
   "id": "comic-person",
   "metadata": {},
   "outputs": [
    {
     "data": {
      "text/plain": [
       "'Wow'"
      ]
     },
     "execution_count": 1,
     "metadata": {},
     "output_type": "execute_result"
    }
   ],
   "source": [
    "def is_int(a):\n",
    "    if type(a) == int:\n",
    "        return \"Wow\"\n",
    "    return \"No\"\n",
    "\n",
    "is_int(5)"
   ]
  },
  {
   "cell_type": "code",
   "execution_count": 20,
   "id": "assisted-photography",
   "metadata": {},
   "outputs": [
    {
     "name": "stdout",
     "output_type": "stream",
     "text": [
      "True\n",
      "ok\n"
     ]
    }
   ],
   "source": [
    "testset = set([1, 5, 7, 3, 7, 9, 44.5, 643.63])\n",
    "\n",
    "print(9 in testset)\n",
    "\n",
    "#for value in testset:\n",
    "#    print(value)\n",
    " \n",
    "if 90 in testset:\n",
    "    print(\"Neun\")\n",
    "elif 6 not in testset:\n",
    "    print(\"ok\")\n",
    "else:\n",
    "    print(\"f\")\n",
    "    \n",
    "    "
   ]
  },
  {
   "cell_type": "code",
   "execution_count": 1,
   "id": "religious-david",
   "metadata": {},
   "outputs": [
    {
     "name": "stdout",
     "output_type": "stream",
     "text": [
      "1\n",
      "2\n",
      "3\n",
      "4\n"
     ]
    }
   ],
   "source": [
    "for val in range(1,5):\n",
    "    print(val)\n",
    "    "
   ]
  },
  {
   "cell_type": "code",
   "execution_count": 12,
   "id": "informational-processing",
   "metadata": {},
   "outputs": [
    {
     "name": "stdout",
     "output_type": "stream",
     "text": [
      "   0\n",
      "5  1\n",
      "6  4\n"
     ]
    }
   ],
   "source": [
    "import numpy as np\n",
    "import pandas as pd\n",
    "\n",
    "df = pd.DataFrame([1, 4],[5, 6])\n",
    "\n",
    "print(df.head())\n",
    "\n",
    "#print(df.iloc[:1])"
   ]
  },
  {
   "cell_type": "markdown",
   "id": "chicken-impact",
   "metadata": {},
   "source": [
    "#Hello"
   ]
  },
  {
   "cell_type": "code",
   "execution_count": null,
   "id": "unsigned-tamil",
   "metadata": {},
   "outputs": [],
   "source": []
  },
  {
   "cell_type": "code",
   "execution_count": 9,
   "id": "structured-action",
   "metadata": {},
   "outputs": [
    {
     "name": "stdout",
     "output_type": "stream",
     "text": [
      "0    0\n",
      "1    1\n",
      "2    1\n",
      "dtype: int64\n",
      "5.0\n",
      "nan\n",
      "3.0\n"
     ]
    }
   ],
   "source": [
    "import numpy as np\n",
    "import pandas as pd\n",
    "#arr = np.array(np.random.randint(1, size=(2,4)))\n",
    "arr = np.array([[2, 5, np.nan], \n",
    "                [4, np.nan, 8], \n",
    "                [5, 3, 2]])\n",
    "#print(arr.ndim)\n",
    "#arr = arr[~np.isnan(arr)]\n",
    "#print(arr)\n",
    "\n",
    "df = pd.DataFrame(arr)\n",
    "\n",
    "#arr[arr >= arr.mean()]\n",
    "#print(df.iloc[1])\n",
    "#df.columns=[\"One\",\"Two\",\"Three\"]\n",
    "#print(df[\"One\"])\n",
    "\n",
    "print(df.isnull().sum())\n",
    "\n",
    "for row, values in df.iterrows():\n",
    "    print(values[1])"
   ]
  },
  {
   "cell_type": "code",
   "execution_count": 4,
   "id": "intended-promise",
   "metadata": {},
   "outputs": [
    {
     "name": "stdout",
     "output_type": "stream",
     "text": [
      "Number please:24\n",
      "Straight Up\n"
     ]
    }
   ],
   "source": [
    "try:\n",
    "    val = int(input(\"Number please:\"))\n",
    "    if (val%2) != 0: \n",
    "        print(\"Odd Future\")\n",
    "    else: \n",
    "        print(\"Straight Up\")\n",
    "except:\n",
    "    print(\"Please input something else\")\n"
   ]
  },
  {
   "cell_type": "code",
   "execution_count": 21,
   "id": "contemporary-mediterranean",
   "metadata": {},
   "outputs": [
    {
     "name": "stdout",
     "output_type": "stream",
     "text": [
      "Tell me:Hey, this is Max\n",
      "4\n"
     ]
    }
   ],
   "source": [
    "value = input(\"Tell me:\")\n",
    "y = 0\n",
    "\n",
    "if value:\n",
    "    for x in value:\n",
    "        if x == ' ':\n",
    "            y += 1\n",
    "\n",
    "    y += 1\n",
    "        \n",
    "print(y)        "
   ]
  },
  {
   "cell_type": "code",
   "execution_count": 28,
   "id": "intense-banking",
   "metadata": {},
   "outputs": [
    {
     "name": "stdout",
     "output_type": "stream",
     "text": [
      "Acronym for:as soon as possible\n",
      "ASAP\n"
     ]
    }
   ],
   "source": [
    "#acronym generator\n",
    "val = input(\"Acronym for:\")\n",
    "\n",
    "if val:\n",
    "    y = \"\"\n",
    "    acr = \"\"\n",
    "    for x in val:\n",
    "        if x != ' ':\n",
    "            y = y + x\n",
    "        else:\n",
    "            acr = acr + y[0].upper()\n",
    "            y = \"\"\n",
    "acr = acr + y[0].upper()        \n",
    "print(acr)"
   ]
  },
  {
   "cell_type": "code",
   "execution_count": 41,
   "id": "advised-miracle",
   "metadata": {},
   "outputs": [
    {
     "name": "stdout",
     "output_type": "stream",
     "text": [
      "Input:hello\n",
      "olleh\n"
     ]
    }
   ],
   "source": [
    "#palindrome checker\n",
    "val = input(\"Input:\")\n",
    "list_val = val[::-1]\n",
    "print(list_val)"
   ]
  },
  {
   "cell_type": "code",
   "execution_count": 1,
   "id": "earned-growing",
   "metadata": {},
   "outputs": [
    {
     "name": "stdout",
     "output_type": "stream",
     "text": [
      "       A    B    D\n",
      "0    2.0  5.0  2.0\n",
      "1    4.0  4.0  2.0\n",
      "2  500.0  3.0  2.0\n"
     ]
    },
    {
     "data": {
      "text/plain": [
       "<matplotlib.axes._subplots.AxesSubplot at 0xa599a18>"
      ]
     },
     "execution_count": 1,
     "metadata": {},
     "output_type": "execute_result"
    },
    {
     "data": {
      "image/png": "[encoded data removed]",
      "text/plain": [
       "<Figure size 432x288 with 1 Axes>"
      ]
     },
     "metadata": {
      "needs_background": "light"
     },
     "output_type": "display_data"
    }
   ],
   "source": [
    "#Data Cleaning\n",
    "import numpy as np\n",
    "import pandas as pd\n",
    "import matplotlib as plt\n",
    "\n",
    "#seaborn library for easy plotting of scatterplots\n",
    "\n",
    "arr = np.array([[2, 5, np.nan], \n",
    "                [4, np.nan, np.nan],\n",
    "                [500, 3, 2]])\n",
    "\n",
    "#arr = arr[~np.isnan(arr)]\n",
    "#print(arr)\n",
    "\n",
    "df = pd.DataFrame(arr)\n",
    "df.columns=([\"A\", \"B\", \"D\"])\n",
    "#df.dropna(axis=0, thresh=2)\n",
    "df = df.fillna(df.mean())\n",
    "#df.fillna(method='bfill')\n",
    "#df = df.fillna({\"A\": df[\"A\"].mean(), \"B\":0 , \"D\": 9})\n",
    "print(df)\n",
    "\n",
    "#finally, checking whether there are any NaN values\n",
    "#df.isnull().any()\n",
    "\n",
    "#fixing outliers...\n",
    "df.loc[df[\"A\"] > 100, \"A\"] = df.loc[df[\"A\"] > 100, \"A\"] / 100\n",
    "df.duplicated(subset=\"D\")\n",
    "\n",
    "#dropping duplicates\n",
    "#df.drop_duplicates(subset=\"D\")\n",
    "\n",
    "#string handling\n",
    "arr2 = np.array([[\"M_1990_Houston?\"],\n",
    "                 [\"F_20 00_Alabama\"]])\n",
    "\n",
    "df2 = pd.DataFrame(arr2)\n",
    "df2.columns=([\"Data\"])\n",
    "df2 = df2[\"Data\"].str.split('_', expand=True)\n",
    "df2.columns=([\"Gender\", \"Year\", \"Place\"])\n",
    "df2[\"Year\"] = df2[\"Year\"].str.replace(' ','')\n",
    "\n",
    "#general dataframe things\n",
    "#df2.size\n",
    "#df2.shape\n",
    "#df2.info()\n",
    "#df2.describe()\n",
    "#df2.append()\n",
    "#df2.drop()\n",
    "#df2.rename(columns=[...])\n",
    "\n",
    "#pd.read_csv?\n",
    "#df = pd.read_csv(\n",
    "#    'data/btc-market-price.csv',\n",
    "#    header=None,\n",
    "#    names=['Timestamp', 'Price'],\n",
    "#    index_col=0,\n",
    "#    parse_dates=True\n",
    "#)\n",
    "\n",
    "df.plot()\n"
   ]
  },
  {
   "cell_type": "code",
   "execution_count": null,
   "id": "animal-hearing",
   "metadata": {},
   "outputs": [],
   "source": []
  }
 ],
 "metadata": {
  "kernelspec": {
   "display_name": "Python 3",
   "language": "python",
   "name": "python3"
  },
  "language_info": {
   "codemirror_mode": {
    "name": "ipython",
    "version": 3
   },
   "file_extension": ".py",
   "mimetype": "text/x-python",
   "name": "python",
   "nbconvert_exporter": "python",
   "pygments_lexer": "ipython3",
   "version": "3.8.3"
  }
 },
 "nbformat": 4,
 "nbformat_minor": 5
}
